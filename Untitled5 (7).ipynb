{
 "cells": [
  {
   "cell_type": "markdown",
   "id": "ea7f8770-9963-493c-bd51-da229bc6334f",
   "metadata": {},
   "source": [
    "#### Q1. Explain the assumptions required to use ANOVA and provide examples of violations that could impact the validity of the results."
   ]
  },
  {
   "cell_type": "markdown",
   "id": "78979da2-5b0d-423f-a290-0a5ee7fe661e",
   "metadata": {},
   "source": [
    "#### solve\n",
    "ANOVA (Analysis of Variance) is a statistical method used to compare means among three or more groups to see if at least one group mean is significantly different from the others. The validity of the ANOVA results depends on several key assumptions:\n",
    "\n",
    "i.Independence of Observations:\n",
    "- The data within each group should be independent of the data in the other groups. This means the samples are randomly selected and one observation does not influence another.\n",
    "- Example Violation: If the data comes from a repeated measures design (e.g., measuring the same subjects multiple times under different conditions), the observations are not independent.\n",
    "\n",
    "ii.Normality:\n",
    "- The data in each group should be approximately normally distributed. This is especially important for small sample sizes.\n",
    "- Example Violation: If the data is heavily skewed or has outliers, the normality assumption is violated. For example, income data often has a long tail to the right, violating normality.\n",
    "\n",
    "iii.Homogeneity of Variances (Homogeneity of Variance Assumption):\n",
    "- The variances of the populations from which the samples are drawn should be equal. This is also known as homoscedasticity.\n",
    "- Example Violation: If one group's variance is significantly larger or smaller than another group's variance, this assumption is violated. For example, comparing test scores from a high-performing school with a wide variance to a low-performing school with a narrow variance.\n",
    "\n",
    "Examples of Violations\n",
    "\n",
    "i.Independence Violation:\n",
    "- Scenario: A teacher tests the same group of students' performance on three different subjects. The scores are likely correlated because the same students are involved, violating the independence assumption.\n",
    "\n",
    "ii.Normality Violation:\n",
    "- Scenario: A researcher collects data on the time spent on a website by users. The data shows a strong right skew because a few users spend a disproportionately long time on the site. This violates the normality assumption.\n",
    "\n",
    "iii.Homogeneity of Variances Violation:\n",
    "- Scenario: Comparing the weight loss of participants in three different diet programs. If one program includes high-intensity training, leading to a much wider range of weight loss outcomes compared to the other programs, the homogeneity of variances assumption is violated.iolated."
   ]
  },
  {
   "cell_type": "markdown",
   "id": "b084ea8e-5156-4ce3-b7b4-8a1718944593",
   "metadata": {},
   "source": [
    "#### Q2. What are the three types of ANOVA, and in what situations would each be used?"
   ]
  },
  {
   "cell_type": "markdown",
   "id": "2d8066b6-cb23-4bf0-bdd6-9187a946a9f8",
   "metadata": {},
   "source": [
    "#### solve\n",
    "ANOVA (Analysis of Variance) is a versatile statistical technique used to compare means among different groups. There are three primary types of ANOVA, each suited for different experimental designs and research questions:\n",
    "\n",
    "i. One-Way ANOVA\n",
    "ii. Two-Way ANOVA\n",
    "iii. Repeated Measures ANOVA\n",
    "\n",
    "1. One-Way ANOVA\n",
    "Definition:\n",
    "- One-Way ANOVA is used when comparing the means of three or more independent groups based on one independent variable (factor).\n",
    "\n",
    "Situations for Use:\n",
    "\n",
    "Single Factor Comparison: When the goal"
   ]
  },
  {
   "cell_type": "markdown",
   "id": "90a53cb9-7d21-43e9-8a34-1b9380b9d087",
   "metadata": {},
   "source": [
    "#### Q3. What is the partitioning of variance in ANOVA, and why is it important to understand this concept?"
   ]
  },
  {
   "cell_type": "markdown",
   "id": "e94a9349-1a32-4beb-8036-36576327dd8f",
   "metadata": {},
   "source": [
    "#### solve\n",
    "ANOVA (Analysis of Variance) is a statistical technique used to determine if there are significant differences between the means of three or more groups. A critical concept in ANOVA is the partitioning of variance, which involves decomposing the total variability in the data into components that can be attributed to different sources.\n",
    "\n",
    "Components of Variance in ANOVA\n",
    "\n",
    "i. Total Variance (Total Sum of Squares, SST):\n",
    "- Represents the overall variability in the data.\n",
    "- Calculated as the sum of squared differences between each observation and the overall mean of the data.\n",
    "\n",
    "ii. Between-Group Variance (Between-Group Sum of Squares, SSB):\n",
    "- Represents the variability due to the differences between the group means.\n",
    "- Calculated as the sum of squared differences between the group means and the overall mean, weighted by the number of observations in each group.\n",
    "\n",
    "iii. Within-Group Variance (Within-Group Sum of Squares, SSW):\n",
    "- Represents the variability within each group.\n",
    "- Calculated as the sum of squared differences between each observation and its respective group mean."
   ]
  },
  {
   "cell_type": "markdown",
   "id": "c9c58d45-c700-41fa-90c6-ed2eecb850c0",
   "metadata": {},
   "source": [
    "#### Q4. How would you calculate the total sum of squares (SST), explained sum of squares (SSE), and residual sum of squares (SSR) in a one-way ANOVA using Python?"
   ]
  },
  {
   "cell_type": "markdown",
   "id": "4af72e2f-ebd4-4388-9d56-aead632e6348",
   "metadata": {},
   "source": [
    "#### solve\n",
    "To calculate the total sum of squares (SST), the explained sum of squares (SSE), and the residual sum of squares (SSR) in a one-way ANOVA using Python, you can follow these steps:\n",
    "\n",
    "i. Calculate the overall mean of the data.\n",
    "\n",
    "ii. Calculate SST (Total Sum of Squares).\n",
    "\n",
    "iii. Calculate SSE (Explained Sum of Squares).\n",
    "\n",
    "iv. Calculate SSR (Residual Sum of Squares).\n",
    "\n",
    "Here's a detailed step-by-step implementation using Python:"
   ]
  },
  {
   "cell_type": "code",
   "execution_count": 5,
   "id": "36f15610-ead7-4094-80df-c158c307bb0c",
   "metadata": {},
   "outputs": [
    {
     "name": "stdout",
     "output_type": "stream",
     "text": [
      "Total Sum of Squares (SST): 452.94444444444446\n",
      "Explained Sum of Squares (SSE): 272.444444444445\n",
      "Residual Sum of Squares (SSR): 180.5\n"
     ]
    }
   ],
   "source": [
    "import numpy as np\n",
    "\n",
    "# Sample data\n",
    "group_A = [80, 85, 90, 92, 87, 83]\n",
    "group_B = [75, 78, 82, 79, 81, 84]\n",
    "group_C = [88, 91, 92, 85, 89, 90]\n",
    "\n",
    "# Combine all groups into a single array\n",
    "data = np.array(group_A + group_B + group_C)\n",
    "\n",
    "# Calculate the overall mean\n",
    "overall_mean = np.mean(data)\n",
    "\n",
    "# Calculate the group means\n",
    "mean_A = np.mean(group_A)\n",
    "mean_B = np.mean(group_B)\n",
    "mean_C = np.mean(group_C)\n",
    "\n",
    "# Calculate SST (Total Sum of Squares)\n",
    "SST = np.sum((data - overall_mean) ** 2)\n",
    "\n",
    "# Calculate SSE (Explained Sum of Squares)\n",
    "n_A = len(group_A)\n",
    "n_B = len(group_B)\n",
    "n_C = len(group_C)\n",
    "SSE = n_A * (mean_A - overall_mean) ** 2 + n_B * (mean_B - overall_mean) ** 2 + n_C * (mean_C - overall_mean) ** 2\n",
    "\n",
    "# Calculate SSR (Residual Sum of Squares)\n",
    "SSR = np.sum((np.array(group_A) - mean_A) ** 2) + np.sum((np.array(group_B) - mean_B) ** 2) + np.sum((np.array(group_C) - mean_C) ** 2)\n",
    "\n",
    "# Display the results\n",
    "print(f\"Total Sum of Squares (SST): {SST}\")\n",
    "print(f\"Explained Sum of Squares (SSE): {SSE}\")\n",
    "print(f\"Residual Sum of Squares (SSR): {SSR}\")\n"
   ]
  },
  {
   "cell_type": "markdown",
   "id": "5ec07510-051f-413d-a172-0bdf0fe9f4fa",
   "metadata": {},
   "source": [
    "####\n",
    "Explanation of the Steps:\n",
    "\n",
    "i. Combine All Data:\n",
    "- Combine the data from all groups into a single array for calculating the overall mean.\n",
    "\n",
    "ii. Calculate Overall Mean:\n",
    "- The overall mean is the average of all data points.\n",
    "\n",
    "iii. Calculate Group Means:\n",
    "- Calculate the mean of each group separately."
   ]
  },
  {
   "cell_type": "markdown",
   "id": "631203df-1643-4729-8b6d-0d0cc118b61d",
   "metadata": {},
   "source": [
    "#### Q5. In a two-way ANOVA, how would you calculate the main effects and interaction effects using Python?"
   ]
  },
  {
   "cell_type": "markdown",
   "id": "b5115101-2bd5-4372-859d-f0e3a4451f29",
   "metadata": {},
   "source": [
    "####solve\n",
    "To calculate the main effects and interaction effects in a two-way ANOVA using Python, you can use the statsmodels library, which provides comprehensive tools for statistical modeling. Here, I'll provide a step-by-step guide to perform two-way ANOVA and calculate the main and interaction effects.\n",
    "\n",
    "i. Install statsmodels and pandas if you haven't already:\n",
    "\n",
    "ii.Prepare your data:\n",
    "- Ensure your data is in a suitable format, typically a pandas DataFrame.\n",
    "\n",
    "iii. Use statsmodels to perform two-way ANOVA:\n",
    "- statsmodels provides an anova_lm function that can be used to perform ANOVA on a linear model.\n",
    "\n",
    "Example\n",
    "- Let's consider an example dataset where we have two factors: FactorA and FactorB, and a continuous dependent variable Response."
   ]
  },
  {
   "cell_type": "code",
   "execution_count": null,
   "id": "05c94eba-3f46-4080-880b-5c9ada69601b",
   "metadata": {},
   "outputs": [],
   "source": [
    "pip install statsmodel pandas"
   ]
  },
  {
   "cell_type": "code",
   "execution_count": null,
   "id": "df9e8ca5-fbc6-4c6a-93b5-d4c9efc7d998",
   "metadata": {},
   "outputs": [],
   "source": [
    "import pandas as pd\n",
    "import statsmodels.api as sm\n",
    "from statsmodels.formula.api import ols\n",
    "\n",
    "# Example data\n",
    "data = {\n",
    "    'FactorA': ['A1', 'A1', 'A1', 'A2', 'A2', 'A2', 'A3', 'A3', 'A3'],\n",
    "    'FactorB': ['B1', 'B2', 'B3', 'B1', 'B2', 'B3', 'B1', 'B2', 'B3'],\n",
    "    'Response': [4.0, 5.1, 6.2, 7.3, 8.4, 9.5, 10.6, 11.7, 12.8]\n",
    "}\n",
    "\n",
    "# Convert to DataFrame\n",
    "df = pd.DataFrame(data)\n",
    "\n",
    "# Fit the two-way ANOVA model\n",
    "model = ols('Response ~ C(FactorA) + C(FactorB) + C(FactorA):C(FactorB)', data=df).fit()\n",
    "\n",
    "# Perform ANOVA\n",
    "anova_results = sm.stats.anova_lm(model, typ=2)\n",
    "\n",
    "# Display the results\n",
    "print(anova_results)\n"
   ]
  },
  {
   "cell_type": "markdown",
   "id": "0e523b55-fe9a-4039-aef7-daf76d06b5cb",
   "metadata": {},
   "source": [
    "Explanation of the Code:\n",
    "\n",
    "i. Data Preparation:\n",
    "- We create a dictionary with sample data, convert it into a pandas DataFrame.\n",
    "\n",
    "ii. Model Fitting:\n",
    "- Use the ols function from statsmodels.formula.api to fit an ordinary least squares (OLS) regression model.\n",
    "- The formula Response ~ C(FactorA) + C(FactorB) + C(FactorA):C(FactorB) specifies:\n",
    "- C(FactorA): Main effect of FactorA.\n",
    "- C(FactorB): Main effect of FactorB.\n",
    "- C(FactorA):C(FactorB): Interaction effect between FactorA and FactorB.\n",
    "\n",
    "iii. Performing ANOVA:\n",
    "- sm.stats.anova_lm(model, typ=2) performs ANOVA on the fitted model. typ=2 specifies Type II Sum of Squares, which is typically used for balanced designs.\n"
   ]
  },
  {
   "cell_type": "markdown",
   "id": "be4a5c20-dfd7-4575-a36b-7f0ca163fafd",
   "metadata": {},
   "source": [
    "#### Q6. Suppose you conducted a one-way ANOVA and obtained an F-statistic of 5.23 and a p-value of 0.02. What can you conclude about the differences between the groups, and how would you interpret these results?"
   ]
  },
  {
   "cell_type": "markdown",
   "id": "5b3cc134-65c7-4452-9742-23644f041be2",
   "metadata": {},
   "source": [
    "#### solve\n",
    "Interpretation of One-Way ANOVA Results:\n",
    "- When you conduct a one-way ANOVA and obtain an F-statistic and p-value, these values help you determine whether there are statistically significant differences between the means of the groups you are comparing. Here’s how you can interpret the results:\n",
    "\n",
    "Given Values:\n",
    "- F-statistic = 5.23\n",
    "- p-value = 0.02\n",
    "\n",
    "Step-by-Step Interpretation:\n",
    "\n",
    "i. Understanding the F-Statistic:\n",
    "- The F-statistic is a ratio of the variance between the group means to the variance within the groups.\n",
    "- A higher F-value indicates a greater degree of separation between the group means relative to the variability within the groups.\n",
    "\n",
    "ii. Understanding the p-Value:\n",
    "- The p-value indicates the probability that the observed F-statistic (or one more extreme) would occur if the null hypothesis were true.\n",
    "- The null hypothesis in ANOVA typically states that all group means are equal (no difference among groups).\n",
    "\n",
    "iii. Significance Level (α):\n",
    "- Commonly used significance levels are 0.05, 0.01, and 0.10.\n",
    "- In this case, a p-value of 0.02 is compared to the significance level to determine statistical significance.\n",
    "\n",
    "Interpretation of Your Results:\n",
    "- p-value = 0.02:\n",
    "- If we use a significance level of 0.05 (α = 0.05), the p-value of 0.02 is less than 0.05.\n",
    "- This means the probability of observing an F-statistic as extreme as 5.23, assuming the null hypothesis is true, is 2%.\n",
    "\n",
    "Conclusion:\n",
    "- Since 0.02 < 0.05, we reject the null hypothesis at the 5% significance level.\n",
    "- There is statistically significant evidence to suggest that there are differences between the group means.\n",
    "\n",
    "Practical Interpretation:\n",
    "- Statistical Significance:\n",
    "- The result indicates that not all group means are equal. There is a statistically significant difference between at least one pair of group means.\n",
    "\n",
    "Effect Size and Practical Significance:\n",
    "- While statistical significance tells us that the differences between groups are unlikely to be due to random chance, it does not indicate the magnitude of these differences (effect size).\n",
    "- Additional measures, such as calculating the effect size (e.g., eta squared,"
   ]
  },
  {
   "cell_type": "markdown",
   "id": "c548715a-8099-4b38-a940-b0285734af62",
   "metadata": {},
   "source": [
    "#### Q7. In a repeated measures ANOVA, how would you handle missing data, and what are the potential consequences of using different methods to handle missing data?"
   ]
  },
  {
   "cell_type": "markdown",
   "id": "2677a39d-2946-4609-a67c-93de7b3bd981",
   "metadata": {},
   "source": [
    "#### solve\n",
    "Handling missing data in repeated measures ANOVA is crucial as it can impact the validity and power of the analysis. Here are some common methods to handle missing data in repeated measures ANOVA, along with their potential consequences:\n",
    "\n",
    "Methods for Handling Missing Data:\n",
    "\n",
    "i. Listwise Deletion:\n",
    "- Description: Excludes any subject with missing data on any measurement occasion from the analysis.\n",
    "- Consequences:\n",
    "- Pros: Simplifies the analysis.\n",
    "- Cons: Reduces sample size, leading to loss of power. If the data are not missing completely at random (MCAR), it can introduce bias.\n",
    "\n",
    "ii. Pairwise Deletion:\n",
    "- Description: Uses all available data without excluding entire cases. Each analysis uses the maximum number of available data points.\n",
    "- Consequences:\n",
    "- Pros: Utilizes more data compared to listwise deletion.\n",
    "- Cons: Can result in inconsistent sample sizes across different analyses, complicating interpretation and potentially introducing bias if data are not MCAR.\n",
    "\n",
    "iii. Mean Substitution:\n",
    "- Description: Replaces missing values with the mean of the observed values for that variable.\n",
    "- Consequences:\n",
    "- Pros: Maintains sample size.\n",
    "- Cons: Underestimates variability, leading to biased estimates of standard errors and test statistics. Reduces data variability and can distort relationships between variables.\n",
    "\n",
    "iv. Last Observation Carried Forward (LOCF):\n",
    "- Description: Replaces missing values with the last observed value for that individual.\n",
    "- Consequences:\n",
    "- Pros: Maintains sample size and within-subject correlations.\n",
    "- Cons: Assumes that the last observation is representative of subsequent measurements, which may not be valid, potentially introducing bias and distorting temporal trends.\n",
    "\n",
    "v.Multiple Imputation:\n",
    "- Description: Creates multiple complete datasets by imputing missing values based on the distribution of the observed data, and then combines results from these datasets.\n",
    "- Consequences:\n",
    "- Pros: Produces unbiased parameter estimates if data are missing at random (MAR). Reflects the uncertainty about the missing values.\n",
    "- Cons: Computationally intensive and complex to implement. Assumes data are MAR.\n",
    "\n",
    "vi. Maximum Likelihood Estimation (MLE):\n",
    "- Description: Uses all available data to estimate model parameters directly, maximizing the likelihood function.\n",
    "- Consequences:\n",
    "- Pros: Produces unbiased estimates under MAR. Utilizes all available data.\n",
    "- Cons: Requires specialized software and statistical expertise. Assumes data are MAR.\n",
    "\n",
    "vii. Mixed-Effects Models:\n",
    "- Description: Includes random effects to account for within-subject correlations and handles missing data by modeling the covariance structure.\n",
    "- Consequences:\n",
    "- Pros: Flexible and robust to missing data if the data are MAR. Utilizes all available data.\n",
    "- Cons: Requires advanced statistical knowledge and appropriate software."
   ]
  },
  {
   "cell_type": "code",
   "execution_count": null,
   "id": "079d524e-86cf-4abf-86cd-1bce9bf7adc3",
   "metadata": {},
   "outputs": [],
   "source": [
    "import pandas as pd\n",
    "import numpy as np\n",
    "import statsmodels.api as sm\n",
    "from statsmodels.formula.api import mixedlm\n",
    "\n",
    "# Example data\n",
    "data = {\n",
    "    'Subject': np.repeat(range(1, 11), 3),\n",
    "    'Time': np.tile(range(1, 4), 10),\n",
    "    'Score': [5, 6, np.nan, 7, 8, 9, 6, 5, 7, 8, 9, 10, 5, 6, 7, 8, 9, 10, 5, 6, 7, 8, 9, np.nan, 7, 6, 8, 9, 10, 11]\n",
    "}\n",
    "\n",
    "# Convert to DataFrame\n",
    "df = pd.DataFrame(data)\n",
    "\n",
    "# Fit the mixed-effects model\n",
    "model = mixedlm(\"Score ~ Time\", df, groups=df[\"Subject\"], re_formula=\"~Time\")\n",
    "result = model.fit()\n",
    "\n",
    "# Display the results\n",
    "print(result.summary())\n"
   ]
  },
  {
   "cell_type": "markdown",
   "id": "03792fbe-df88-4761-9ede-a221936ef44b",
   "metadata": {},
   "source": [
    "#### \n",
    "In this example:\n",
    "- A mixed-effects model is fitted with Time as the fixed effect and Subject as the random effect, which accounts for within-subject correlations.\n",
    "- This approach handles missing data by using all available data points, assuming the data are MAR."
   ]
  },
  {
   "cell_type": "markdown",
   "id": "106817a9-e3fc-4f42-b892-eaef106a7b52",
   "metadata": {},
   "source": [
    "#### Q8. What are some common post-hoc tests used after ANOVA, and when would you use each one? Provide an example of a situation where a post-hoc test might be necessary."
   ]
  },
  {
   "cell_type": "markdown",
   "id": "c0ef879f-fd1c-48f4-88f8-2c6216a430f2",
   "metadata": {},
   "source": [
    "#### solve\n",
    "i. After conducting an analysis of variance (ANOVA) and finding a significant difference among the means of three or more groups, post-hoc tests are often employed to determine which specific group differences are significant. Some common post-hoc tests include:\n",
    "\n",
    "ii. Tukey's Honestly Significant Difference (HSD): This test compares all possible pairs of means and controls the family-wise error rate. It is commonly used when you have equal sample sizes and homogeneous variances across groups.\n",
    "\n",
    "iii. Bonferroni Correction: This method adjusts the significance level for each individual comparison to maintain an overall significance level. It is conservative but widely used when performing multiple comparisons.\n",
    "\n",
    "iv. Sidak Correction: Similar to Bonferroni, but it can be less conservative as it takes into account the number of comparisons being made.\n",
    "\n",
    "v. Dunnett's Test: Used when comparing multiple treatments to a single control group. It controls the overall Type I error rate while allowing for comparisons against a control.\n",
    "\n",
    "vi. Scheffé's Test: This is a conservative test that can be used with unequal sample sizes and/or variances. It controls the family-wise error rate for all possible comparisons.\n",
    "\n",
    "vii. Fisher's Least Significant Difference (LSD): The simplest post-hoc test, it compares pairs of means without controlling for family-wise error rate. It is less conservative but can lead to an inflated Type I error rate."
   ]
  },
  {
   "cell_type": "markdown",
   "id": "9307de18-38a7-49af-8c57-b30b6db5690f",
   "metadata": {},
   "source": [
    "#### Q9. A researcher wants to compare the mean weight loss of three diets: A, B, and C. They collect data from 50 participants who were randomly assigned to one of the diets. Conduct a one-way ANOVA using Python to determine if there are any significant differences between the mean weight loss of the three diets. Report the F-statistic and p-value, and interpret the results."
   ]
  },
  {
   "cell_type": "markdown",
   "id": "8b3e602c-c8c8-4897-bb37-2b6891c4f821",
   "metadata": {},
   "source": [
    "#### solve\n",
    "You can use Python's scipy.stats module to conduct a one-way ANOVA test. Here's how you can perform the analysis:"
   ]
  },
  {
   "cell_type": "code",
   "execution_count": 1,
   "id": "8a67f036-25bb-4125-8553-4f88a630e14b",
   "metadata": {},
   "outputs": [
    {
     "name": "stdout",
     "output_type": "stream",
     "text": [
      "One-way ANOVA results:\n",
      "F-statistic: 2.3780373433370277\n",
      "p-value: 0.09636522088293345\n",
      "The p-value is greater than the significance level (alpha), so we fail to reject the null hypothesis.\n",
      "There is not enough evidence to conclude that there are differences in mean weight loss between the diets.\n"
     ]
    }
   ],
   "source": [
    "import numpy as np\n",
    "from scipy.stats import f_oneway\n",
    "\n",
    "# Weight loss data for each diet\n",
    "weight_loss_a = np.array([3.2, 2.5, 4.1, 3.8, 2.9, 3.5, 3.6, 2.7, 3.9, 2.8,\n",
    "                          3.0, 3.4, 3.1, 2.6, 3.3, 3.7, 3.8, 2.9, 3.2, 3.6,\n",
    "                          3.4, 2.9, 3.5, 3.2, 2.8, 3.7, 3.0, 3.3, 2.6, 3.9,\n",
    "                          3.1, 2.7, 3.8, 2.9, 3.5, 3.2, 3.4, 2.8, 3.6, 3.0,\n",
    "                          3.3, 2.5, 3.7, 2.9, 3.1, 3.4, 2.7, 3.8, 3.0])\n",
    "weight_loss_b = np.array([2.8, 3.1, 2.6, 3.5, 2.9, 3.3, 2.7, 3.6, 2.4, 3.2,\n",
    "                          3.4, 2.8, 3.0, 2.5, 3.7, 2.9, 3.1, 2.6, 3.8, 2.2,\n",
    "                          3.3, 2.7, 3.5, 2.9, 3.1, 2.4, 3.6, 3.0, 2.8, 3.2,\n",
    "                          3.7, 2.5, 3.9, 2.3, 3.4, 2.7, 3.1, 3.0, 2.6, 3.8,\n",
    "                          2.8, 3.3, 2.5, 3.7, 2.9, 3.2, 2.4, 3.6, 3.1])\n",
    "weight_loss_c = np.array([3.0, 3.5, 2.8, 3.3, 2.6, 3.8, 2.9, 3.2, 2.5, 3.6,\n",
    "                          2.7, 3.4, 2.9, 3.1, 2.4, 3.7, 2.8, 3.5, 2.2, 3.9,\n",
    "                          3.0, 3.3, 2.6, 3.8, 2.9, 3.2, 2.5, 3.6, 2.7, 3.4,\n",
    "                          2.9, 3.1, 2.4, 3.7, 2.8, 3.5, 2.2, 3.9, 3.0, 3.3,\n",
    "                          2.6, 3.8, 2.9, 3.2, 2.5, 3.6, 2.7, 3.4, 2.9])\n",
    "\n",
    "# Perform one-way ANOVA\n",
    "f_statistic, p_value = f_oneway(weight_loss_a, weight_loss_b, weight_loss_c)\n",
    "\n",
    "# Report the results\n",
    "print(\"One-way ANOVA results:\")\n",
    "print(\"F-statistic:\", f_statistic)\n",
    "print(\"p-value:\", p_value)\n",
    "\n",
    "# Interpret the results\n",
    "alpha = 0.05\n",
    "if p_value < alpha:\n",
    "    print(\"The p-value is less than the significance level (alpha), so we reject the null hypothesis.\")\n",
    "    print(\"There is significant evidence to conclude that there are differences in mean weight loss between at least two of the diets.\")\n",
    "else:\n",
    "    print(\"The p-value is greater than the significance level (alpha), so we fail to reject the null hypothesis.\")\n",
    "    print(\"There is not enough evidence to conclude that there are differences in mean weight loss between the diets.\")\n"
   ]
  },
  {
   "cell_type": "markdown",
   "id": "72451c9b-57e2-491c-97ab-36a7c7a9c233",
   "metadata": {},
   "source": [
    "#### Q10. A company wants to know if there are any significant differences in the average time it takes to complete a task using three different software programs: Program A, Program B, and Program C. They randomly assign 30 employees to one of the programs and record the time it takes each employee to complete the task. Conduct a two-way ANOVA using Python to determine if there are any main effects or interaction effects between the software programs and employee experience level (novice vs. experienced). Report the F-statistics and p-values, and interpret the results."
   ]
  },
  {
   "cell_type": "markdown",
   "id": "5d0622e1-e5b1-46a0-8f8a-13fb19afd1fa",
   "metadata": {},
   "source": [
    "#### solve\n",
    "To conduct a two-way ANOVA in Python, you can use the statsmodels library, which provides a more comprehensive toolset for conducting ANOVA including the examination of interaction effects. Here's how you can perform the analysis:"
   ]
  },
  {
   "cell_type": "code",
   "execution_count": 2,
   "id": "23a8e308-e2de-4a28-b228-46ab569a2a01",
   "metadata": {},
   "outputs": [
    {
     "name": "stdout",
     "output_type": "stream",
     "text": [
      "                              sum_sq    df         F    PR(>F)\n",
      "C(Software)                11.141545   2.0  2.113814  0.142706\n",
      "C(Experience)               2.102143   1.0  0.797652  0.380665\n",
      "C(Software):C(Experience)   6.013261   2.0  1.140857  0.336272\n",
      "Residual                   63.249921  24.0       NaN       NaN\n"
     ]
    }
   ],
   "source": [
    "import numpy as np\n",
    "import pandas as pd\n",
    "import statsmodels.api as sm\n",
    "from statsmodels.formula.api import ols\n",
    "\n",
    "# Generate sample data\n",
    "np.random.seed(0)\n",
    "n = 30\n",
    "software = np.random.choice(['A', 'B', 'C'], n)\n",
    "experience = np.random.choice(['Novice', 'Experienced'], n)\n",
    "completion_time = np.random.normal(loc=10, scale=2, size=n)\n",
    "\n",
    "# Create a DataFrame\n",
    "data = pd.DataFrame({'Software': software, 'Experience': experience, 'Completion_Time': completion_time})\n",
    "\n",
    "# Fit the ANOVA model\n",
    "model = ols('Completion_Time ~ C(Software) + C(Experience) + C(Software):C(Experience)', data=data).fit()\n",
    "\n",
    "# Perform ANOVA\n",
    "anova_table = sm.stats.anova_lm(model, typ=2)\n",
    "print(anova_table)\n"
   ]
  },
  {
   "cell_type": "markdown",
   "id": "b6b52e3b-73b6-44bc-b7a3-3dc38674d0d6",
   "metadata": {},
   "source": [
    "####\n",
    "This code performs a two-way ANOVA using the statsmodels library in Python. The ANOVA model includes both main effects (Software and Experience) and their interaction term. Here's how to interpret the results:\n",
    "\n",
    "- Look at the p-values for the main effects (Software and Experience) and the interaction effect (Software:Experience).\n",
    "- If any of these p-values are less than the chosen significance level (usually 0.05), it indicates that there is a significant effect.\n",
    "- The main effects indicate whether there are overall differences between the levels of each factor (Software and Experience).\n",
    "- The interaction effect indicates whether the effect of one factor (e.g., Software) depends on the levels of the other factor (e.g., Experience)."
   ]
  },
  {
   "cell_type": "markdown",
   "id": "d1d1e58f-a1b5-4a44-8fb4-324adfafa09c",
   "metadata": {},
   "source": [
    "#### Q11. An educational researcher is interested in whether a new teaching method improves student test scores. They randomly assign 100 students to either the control group (traditional teaching method) or the experimental group (new teaching method) and administer a test at the end of the semester. Conduct a two-sample t-test using Python to determine if there are any significant differences in test scores between the two groups. If the results are significant, follow up with a post-hoc test to determine which group(s) differ significantly from each other."
   ]
  },
  {
   "cell_type": "markdown",
   "id": "1397c147-17f4-41c0-a998-84546fdff840",
   "metadata": {},
   "source": [
    "#### solve\n",
    "You can use the scipy.stats module in Python to conduct a two-sample t-test for independent samples. Here's how you can perform the analysis:"
   ]
  },
  {
   "cell_type": "code",
   "execution_count": 3,
   "id": "a916ee65-108c-4435-8028-78413dcda72f",
   "metadata": {},
   "outputs": [
    {
     "name": "stdout",
     "output_type": "stream",
     "text": [
      "Two-sample t-test results:\n",
      "t-statistic: -3.597192759749614\n",
      "p-value: 0.0004062796020362504\n",
      "The p-value is less than the significance level (alpha), so we reject the null hypothesis.\n",
      "There is significant evidence to conclude that there are differences in test scores between the two groups.\n"
     ]
    }
   ],
   "source": [
    "import numpy as np\n",
    "from scipy.stats import ttest_ind\n",
    "\n",
    "# Generate sample data\n",
    "np.random.seed(0)\n",
    "control_group = np.random.normal(loc=75, scale=10, size=100)  # Control group (traditional teaching method)\n",
    "experimental_group = np.random.normal(loc=80, scale=10, size=100)  # Experimental group (new teaching method)\n",
    "\n",
    "# Perform two-sample t-test\n",
    "t_statistic, p_value = ttest_ind(control_group, experimental_group)\n",
    "\n",
    "# Report the results of the t-test\n",
    "print(\"Two-sample t-test results:\")\n",
    "print(\"t-statistic:\", t_statistic)\n",
    "print(\"p-value:\", p_value)\n",
    "\n",
    "# Interpret the results\n",
    "alpha = 0.05\n",
    "if p_value < alpha:\n",
    "    print(\"The p-value is less than the significance level (alpha), so we reject the null hypothesis.\")\n",
    "    print(\"There is significant evidence to conclude that there are differences in test scores between the two groups.\")\n",
    "else:\n",
    "    print(\"The p-value is greater than the significance level (alpha), so we fail to reject the null hypothesis.\")\n",
    "    print(\"There is not enough evidence to conclude that there are differences in test scores between the two groups.\")\n"
   ]
  },
  {
   "cell_type": "markdown",
   "id": "7eb4feed-5b62-40e4-b46d-bc6b6bb7c2cc",
   "metadata": {},
   "source": [
    "####\n",
    "This code conducts a two-sample t-test to compare the test scores of the control group (traditional teaching method) and the experimental group (new teaching method). The interpretation of the results depends on the p-value compared to the chosen significance level (usually 0.05). If the p-value is less than the significance level, we reject the null hypothesis and conclude that there are significant differences in test scores between the two groups. If the p-value is greater than the significance level, we fail to reject the null hypothesis and conclude that there is not enough evidence to support differences in test scores between the two groups."
   ]
  },
  {
   "cell_type": "markdown",
   "id": "c80284d2-8c28-4238-a33c-a7ff11348d7e",
   "metadata": {},
   "source": [
    "#### Q12. A researcher wants to know if there are any significant differences in the average daily sales of three retail stores: Store A, Store B, and Store C. They randomly select 30 days and record the sales for each store on those days. Conduct a repeated measures ANOVA using Python to determine if there are any significant differences in sales between the three stores. If the results are significant, follow up with a post- hoc test to determine which store(s) differ significantly from each other."
   ]
  },
  {
   "cell_type": "markdown",
   "id": "9a370d81-e8c0-474b-97b0-8eb8bb03aa39",
   "metadata": {},
   "source": [
    "#### solve\n",
    "Repeated measures ANOVA is typically used when the same participants are measured multiple times under different conditions. In your scenario, it seems like you want to perform a one-way ANOVA since you are comparing the sales of three different stores on different days. Here's how you can perform this analysis in Python:"
   ]
  },
  {
   "cell_type": "code",
   "execution_count": 4,
   "id": "4a42a1ef-95aa-40c0-bd91-979430e9dd74",
   "metadata": {},
   "outputs": [
    {
     "name": "stdout",
     "output_type": "stream",
     "text": [
      "One-way ANOVA results:\n",
      "F-statistic: 11.557941027726466\n",
      "p-value: 3.5368296622652755e-05\n",
      "\n",
      "Post-hoc Tukey's HSD test:\n",
      " Multiple Comparison of Means - Tukey HSD, FWER=0.05  \n",
      "======================================================\n",
      "group1 group2 meandiff p-adj   lower    upper   reject\n",
      "------------------------------------------------------\n",
      "     A      B  10.4859 0.7739 -26.1093  47.0811  False\n",
      "     A      C  68.4967 0.0001  31.9015 105.0919   True\n",
      "     B      C  58.0108 0.0008  21.4156  94.6061   True\n",
      "------------------------------------------------------\n"
     ]
    }
   ],
   "source": [
    "import numpy as np\n",
    "import pandas as pd\n",
    "from scipy.stats import f_oneway\n",
    "from statsmodels.stats.multicomp import pairwise_tukeyhsd\n",
    "\n",
    "# Generate sample data\n",
    "np.random.seed(0)\n",
    "days = 30\n",
    "sales_store_a = np.random.normal(loc=500, scale=50, size=days)\n",
    "sales_store_b = np.random.normal(loc=550, scale=60, size=days)\n",
    "sales_store_c = np.random.normal(loc=600, scale=70, size=days)\n",
    "\n",
    "# Combine sales data into a DataFrame\n",
    "data = pd.DataFrame({\n",
    "    'Store': np.repeat(['A', 'B', 'C'], days),\n",
    "    'Sales': np.concatenate([sales_store_a, sales_store_b, sales_store_c])\n",
    "})\n",
    "\n",
    "# Perform one-way ANOVA\n",
    "f_statistic, p_value = f_oneway(data[data['Store'] == 'A']['Sales'],\n",
    "                                 data[data['Store'] == 'B']['Sales'],\n",
    "                                 data[data['Store'] == 'C']['Sales'])\n",
    "\n",
    "# Report the results of the ANOVA\n",
    "print(\"One-way ANOVA results:\")\n",
    "print(\"F-statistic:\", f_statistic)\n",
    "print(\"p-value:\", p_value)\n",
    "\n",
    "# If the results are significant, follow up with post-hoc Tukey's HSD test\n",
    "if p_value < 0.05:\n",
    "    print(\"\\nPost-hoc Tukey's HSD test:\")\n",
    "    tukey_results = pairwise_tukeyhsd(data['Sales'], data['Store'])\n",
    "    print(tukey_results)\n"
   ]
  },
  {
   "cell_type": "markdown",
   "id": "0a55e07b-f739-4e72-956d-1ab68878c54a",
   "metadata": {},
   "source": [
    "####\n",
    "In this code:\n",
    "\n",
    "- Sample data is generated for each store's daily sales using normal distributions with different means and standard deviations.\n",
    "- The sales data is combined into a DataFrame with a column indicating the store.\n",
    "- One-way ANOVA is performed using f_oneway from scipy.stats.\n",
    "- If the p-value from the ANOVA is less than 0.05 (indicating significant differences), post-hoc Tukey's HSD test is performed using pairwise_tukeyhsd from statsmodels.stats.multicomp to determine which stores differ significantly from each other."
   ]
  },
  {
   "cell_type": "code",
   "execution_count": null,
   "id": "0808cd00-0819-4cf9-aaa0-fabfd9a447a0",
   "metadata": {},
   "outputs": [],
   "source": []
  },
  {
   "cell_type": "code",
   "execution_count": null,
   "id": "1bcc55f1-8ce5-49ac-b672-5b6f34d3e615",
   "metadata": {},
   "outputs": [],
   "source": []
  },
  {
   "cell_type": "code",
   "execution_count": null,
   "id": "46ac10a0-10e2-4c05-8717-20c2b1a915eb",
   "metadata": {},
   "outputs": [],
   "source": []
  }
 ],
 "metadata": {
  "kernelspec": {
   "display_name": "Python 3 (ipykernel)",
   "language": "python",
   "name": "python3"
  },
  "language_info": {
   "codemirror_mode": {
    "name": "ipython",
    "version": 3
   },
   "file_extension": ".py",
   "mimetype": "text/x-python",
   "name": "python",
   "nbconvert_exporter": "python",
   "pygments_lexer": "ipython3",
   "version": "3.11.7"
  }
 },
 "nbformat": 4,
 "nbformat_minor": 5
}
